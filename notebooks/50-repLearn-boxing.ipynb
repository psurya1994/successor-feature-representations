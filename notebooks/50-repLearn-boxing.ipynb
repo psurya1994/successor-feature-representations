{
 "cells": [
  {
   "cell_type": "code",
   "execution_count": 1,
   "metadata": {},
   "outputs": [],
   "source": [
    "import sys\n",
    "sys.path.append('../')"
   ]
  },
  {
   "cell_type": "code",
   "execution_count": 2,
   "metadata": {},
   "outputs": [],
   "source": [
    "\"\"\"\n",
    "Standard protocol\n",
    "\"\"\"\n",
    "\n",
    "from deep_rl import *\n",
    "import pickle\n",
    "import uuid\n",
    "import torch\n",
    "import matplotlib.pyplot as plt\n",
    "\n",
    "# Class for avDSR actor\n",
    "class avDSRActorRandom(BaseActor):\n",
    "    def __init__(self, config):\n",
    "        BaseActor.__init__(self, config)\n",
    "        self.config = config\n",
    "        self.start()\n",
    "\n",
    "    def _transition(self):\n",
    "        if self._state is None:\n",
    "            self._state = self._task.reset()\n",
    "\n",
    "        config = self.config # DELETE this line\n",
    "\n",
    "        # Predict action\n",
    "        # action = np.random.randint(self.config.action_dim)\n",
    "        state_norm = config.state_normalizer(self._state)\n",
    "        action = epsilon_greedy(1, torch.zeros(state_norm.shape[0], self.config.action_dim))\n",
    "        # import pdb; pdb.set_trace()\n",
    "\n",
    "        # Take action\n",
    "        next_state, reward, done, info = self._task.step(action)\n",
    "\n",
    "        entry = [self._state, action, reward, next_state, done, info]\n",
    "        self._total_steps += 1\n",
    "        self._state = next_state\n",
    "        return entry\n",
    "\n",
    "# Class for avDSR agent\n",
    "class avDSRAgent(BaseAgent):\n",
    "    def __init__(self, config, agents=None):\n",
    "        \"\"\"\n",
    "            agents -> list of agents whose actions we need to sample.\n",
    "        \"\"\"\n",
    "        BaseAgent.__init__(self, config)\n",
    "        self.config = config\n",
    "        config.lock = mp.Lock()\n",
    "\n",
    "        self.replay = config.replay_fn()\n",
    "        if(agents is None):\n",
    "            self.actor = avDSRActorRandom(config)\n",
    "            self.config.style = 'random'\n",
    "        else:\n",
    "            raise NotImplementedError\n",
    "\n",
    "        self.network = config.network_fn()\n",
    "        self.network.share_memory()\n",
    "\n",
    "        self.optimizer = config.optimizer_fn(self.network.parameters())\n",
    "        self.optimizer_phi = config.optimizer_fn(list(self.network.encoder.parameters()) + \\\n",
    "                                                 list(self.network.decoder.parameters()))\n",
    "        self.optimizer_psi = config.optimizer_fn(self.network.layers_sr.parameters())\n",
    "\n",
    "\n",
    "        self.actor.set_network(self.network)\n",
    "        self.total_steps = 0\n",
    "        self.c = 1\n",
    "\n",
    "        try:\n",
    "            self.is_wb = config.is_wb\n",
    "        except:\n",
    "            print('is_wb config not found, using deafult.')\n",
    "            self.is_wb = True\n",
    "\n",
    "        self.track_loss = True\n",
    "        if(self.track_loss):\n",
    "            self.loss_rec_vec = []\n",
    "            self.loss_psi_vec = []\n",
    "            self.loss_vec = []\n",
    "\n",
    "        if(self.is_wb):\n",
    "            wandb.init(entity=\"psurya\", project=\"sample-project\")\n",
    "            wandb.watch_called = False\n",
    "\n",
    "    def close(self):\n",
    "        close_obj(self.replay)\n",
    "        close_obj(self.actor)\n",
    "\n",
    "    def reduce_loss(self, loss):\n",
    "        return loss.pow(2).mul(0.5).mean()\n",
    "\n",
    "    def compute_loss(self, transitions):\n",
    "        config = self.config\n",
    "        states = self.config.state_normalizer(transitions.state)\n",
    "        next_states = self.config.state_normalizer(transitions.next_state)\n",
    "        masks = tensor(transitions.mask)\n",
    "        rewards = tensor(transitions.reward)\n",
    "        actions = tensor(transitions.action).long()\n",
    "        with torch.no_grad():\n",
    "            psi_next = self.network(next_states)['psi'].detach()\n",
    "\n",
    "        if(self.config.style == 'random'):\n",
    "            next_actions = tensor(epsilon_greedy(1, torch.zeros(psi_next.shape[0], self.config.action_dim))).long()\n",
    "        else:\n",
    "            raise NotImplementedError\n",
    "            \n",
    "        psi_next = psi_next[:, next_actions, :]\n",
    "        out = self.network(states)\n",
    "        psi_next = self.config.discount * psi_next * (masks.unsqueeze(1).unsqueeze(2).expand(-1, 32,512))\n",
    "        phi, psi, state_rec = out['phi'], out['psi'], out['state_rec']\n",
    "        psi_next.add_(phi.clone())\n",
    "        psi = psi[:, actions, :]\n",
    "\n",
    "        loss_rec = (state_rec - tensor(states))\n",
    "        loss_psi = (psi_next - psi)\n",
    "\n",
    "        return loss_rec, loss_psi\n",
    "\n",
    "    def step(self):\n",
    "        config = self.config\n",
    "        # Step and get new transisions\n",
    "        transitions = self.actor.step()\n",
    "\n",
    "        for states, actions, rewards, next_states, dones, info in transitions:\n",
    "\n",
    "            # Recording results\n",
    "            self.record_online_return(info) # to log, screen\n",
    "            for i, info_ in enumerate(info): # to wandb\n",
    "                ret = info_['episodic_return']\n",
    "                if ret is not None:\n",
    "                    if(self.is_wb):\n",
    "                        wandb.log({\"steps_ret\": self.total_steps, \"returns\": ret})\n",
    "\n",
    "            self.total_steps += 1\n",
    "\n",
    "            # Feed the transisions into replay\n",
    "            self.replay.feed(dict(\n",
    "                state=np.array([s[-1] if isinstance(s, LazyFrames) else s for s in states]),\n",
    "                action=actions,\n",
    "                reward=[config.reward_normalizer(r) for r in rewards],\n",
    "                mask=1 - np.asarray(dones, dtype=np.int32),\n",
    "            ))\n",
    "\n",
    "        if self.total_steps > self.config.exploration_steps:\n",
    "\n",
    "            transitions = self.replay.sample()\n",
    "            # import pdb; pdb.set_trace()\n",
    "            loss_rec, loss_psi = self.compute_loss(transitions)\n",
    "            loss_rec, loss_psi = self.reduce_loss(loss_rec), self.reduce_loss(loss_psi)\n",
    "            loss = (loss_psi + self.c * loss_rec).mean()\n",
    "\n",
    "            if(self.track_loss):\n",
    "                self.loss_vec.append(loss.item())\n",
    "                self.loss_psi_vec.append(loss_psi.item())\n",
    "                self.loss_rec_vec.append(loss_rec.item())\n",
    "\n",
    "            if(self.is_wb):\n",
    "                wandb.log({\"steps_loss\": self.total_steps, \"loss\": loss.item()})\n",
    "\n",
    "\n",
    "            self.optimizer.zero_grad()\n",
    "            loss_rec.backward(retain_graph=True)\n",
    "            loss_psi.backward()\n",
    "            with config.lock:\n",
    "                self.optimizer_psi.step()\n",
    "            with config.lock:\n",
    "                self.optimizer_phi.step()\n",
    "\n",
    "# Class for network \n",
    "class SRNetNatureUnsup(nn.Module):\n",
    "    def __init__(self, output_dim, hidden_units_sr=(512*4,), hidden_units_psi2q=(), gate=F.relu, config=1):\n",
    "        \"\"\"\n",
    "        This network has two heads: SR head (SR) and reconstruction head (rec).\n",
    "        config -> type of learning on top of state abstraction\n",
    "            0 - typical SR with weights sharing\n",
    "            1 - learning SR without weights sharing\n",
    "        \"\"\"\n",
    "        super(SRNetNatureUnsup, self).__init__()\n",
    "        self.feature_dim = 512\n",
    "        self.output_dim = output_dim\n",
    "        self.gate = gate\n",
    "        in_channels = 4\n",
    "        \n",
    "        self.encoder = nn.Sequential(\n",
    "            layer_init(nn.Conv2d(in_channels, 32, kernel_size=8, stride=4)),  # b, 16, 10, 10\n",
    "            nn.ReLU(True),\n",
    "            layer_init(nn.Conv2d(32, 64, kernel_size=4, stride=2)), \n",
    "            nn.ReLU(True),\n",
    "            layer_init(nn.Conv2d(64, 64, kernel_size=3, stride=1)), \n",
    "            nn.ReLU(True),\n",
    "            Flatten(),\n",
    "            nn.Linear(7 * 7 * 64, self.feature_dim)\n",
    "        )\n",
    "        \n",
    "        self.decoder = nn.Sequential(\n",
    "            layer_init(nn.Linear(self.feature_dim, 7 * 7 * 64)),\n",
    "            torch_reshape(into=[64, 7, 7]),\n",
    "            layer_init(nn.ConvTranspose2d(64, 64, kernel_size=3, stride=1)),  # b, 16, 5, 5\n",
    "            nn.ReLU(True),\n",
    "            layer_init(nn.ConvTranspose2d(64, 32, kernel_size=4, stride=2)),  # b, 16, 5, 5\n",
    "            nn.ReLU(True),\n",
    "            layer_init(nn.ConvTranspose2d(32, in_channels, kernel_size=8, stride=4, output_padding=0)),  # b, 8, 15, 15\n",
    "            nn.ReLU(True),\n",
    "            nn.Tanh()\n",
    "        )\n",
    "\n",
    "        # layers for SR\n",
    "        dims_sr = (self.feature_dim,) + hidden_units_sr + (self.feature_dim * output_dim,)\n",
    "        self.layers_sr = nn.ModuleList(\n",
    "            [layer_init_0(nn.Linear(dim_in, dim_out)) for dim_in, dim_out in zip(dims_sr[:-1], dims_sr[1:])])\n",
    "\n",
    "        self.to(Config.DEVICE)\n",
    "\n",
    "    def forward(self, x):\n",
    "\n",
    "        # Finding the latent layer\n",
    "        phi = self.encoder(tensor(x)) # shape: b x state_dim\n",
    "\n",
    "        # Reconstruction\n",
    "        state_rec = self.decoder(phi)\n",
    "\n",
    "        # Estimating the SR from the latent layer\n",
    "        psi = phi\n",
    "        for layer in self.layers_sr[:-1]:\n",
    "            psi = self.gate(layer(psi))\n",
    "        psi = self.layers_sr[-1](psi)\n",
    "        psi = psi.view(psi.size(0), self.output_dim, self.feature_dim) # shape: b x action_dim x state_dim\n",
    "\n",
    "        return dict(phi=phi, psi=psi, state_rec=state_rec)\n",
    "\n",
    "# Function for unsupervised representation learning\n",
    "def dsr_unsup_pixel(**kwargs):\n",
    "    generate_tag(kwargs)\n",
    "    kwargs.setdefault('log_level', 0)\n",
    "    kwargs.setdefault('n_step', 1)\n",
    "    kwargs.setdefault('replay_cls', UniformReplay)\n",
    "    kwargs.setdefault('async_replay', False)\n",
    "    kwargs.setdefault('is_wb', False)\n",
    "    config = Config()\n",
    "    config.merge(kwargs)\n",
    "\n",
    "    config.task_fn = lambda: Task(config.game)\n",
    "    config.eval_env = config.task_fn()\n",
    "\n",
    "    config.optimizer_fn = lambda params: torch.optim.RMSprop(params, lr=0.0005)\n",
    "    config.network_fn = lambda: SRNetNatureUnsup(output_dim=config.action_dim)\n",
    "    # config.network_fn = lambda: DuelingNet(config.action_dim, NatureConvBody(in_channels=config.history_length))\n",
    "    config.random_action_prob = LinearSchedule(1.0, 1.0, 1e6)\n",
    "    config.batch_size = 32\n",
    "    config.discount = 0.99\n",
    "    config.history_length = 4\n",
    "    config.max_steps = int(1e5)\n",
    "    replay_kwargs = dict(\n",
    "        memory_size=int(1e6),\n",
    "        batch_size=config.batch_size,\n",
    "        n_step=config.n_step,\n",
    "        discount=config.discount,\n",
    "        history_length=config.history_length,\n",
    "    )\n",
    "    config.replay_fn = lambda: ReplayWrapper(config.replay_cls, replay_kwargs, config.async_replay)\n",
    "    config.replay_eps = 0.01\n",
    "    config.replay_alpha = 0.5\n",
    "    config.replay_beta = LinearSchedule(0.4, 1.0, config.max_steps)\n",
    "\n",
    "    config.state_normalizer = ImageNormalizer()\n",
    "    config.reward_normalizer = SignNormalizer()\n",
    "    config.target_network_update_freq = None\n",
    "    config.exploration_steps = 1000\n",
    "    config.sgd_update_frequency = 4\n",
    "    config.gradient_clip = 5\n",
    "    config.double_q = False\n",
    "    config.async_actor = False\n",
    "    return run_steps(avDSRAgent(config))\n",
    "\n",
    "def run_steps(agent):\n",
    "    config = agent.config\n",
    "    agent_name = agent.__class__.__name__\n",
    "    t0 = time.time()\n",
    "    while True:\n",
    "        if config.save_interval and not agent.total_steps % config.save_interval:\n",
    "            agent.save('data/%s-%s-%d' % (agent_name, config.tag, agent.total_steps))\n",
    "        if config.log_interval and not agent.total_steps % config.log_interval:\n",
    "            agent.logger.info('steps %d, %.2f steps/s' % (agent.total_steps, config.log_interval / (time.time() - t0)))\n",
    "            t0 = time.time()\n",
    "        if config.eval_interval and not agent.total_steps % config.eval_interval:\n",
    "            agent.eval_episodes()\n",
    "        if config.max_steps and agent.total_steps >= config.max_steps:\n",
    "            agent.close()\n",
    "            break\n",
    "        agent.step()\n",
    "        agent.switch_task()\n",
    "    return agent"
   ]
  },
  {
   "cell_type": "code",
   "execution_count": 3,
   "metadata": {},
   "outputs": [],
   "source": [
    "select_device(0)"
   ]
  },
  {
   "cell_type": "code",
   "execution_count": 4,
   "metadata": {},
   "outputs": [
    {
     "name": "stderr",
     "output_type": "stream",
     "text": [
      "/home/mila/p/penmetss/.conda/envs/conda_env/lib/python3.6/site-packages/gym/envs/registration.py:14: PkgResourcesDeprecationWarning: Parameters to load are deprecated.  Call .resolve and .require separately.\n",
      "  result = entry_point.load(False)\n",
      "2020-10-14 09:00:08,210 - root - INFO: steps 0, 23563505.62 steps/s\n",
      "2020-10-14 09:00:09,830 - root - INFO: steps 1000, 619.57 steps/s\n",
      "2020-10-14 09:00:26,476 - root - INFO: steps 1777, episodic_return_train -2.0\n",
      "2020-10-14 09:00:28,083 - root - INFO: steps 2000, 54.79 steps/s\n",
      "2020-10-14 09:00:35,209 - root - INFO: steps 3000, 140.38 steps/s\n",
      "2020-10-14 09:00:39,204 - root - INFO: steps 3559, episodic_return_train 1.0\n",
      "2020-10-14 09:00:42,372 - root - INFO: steps 4000, 139.68 steps/s\n",
      "2020-10-14 09:00:49,495 - root - INFO: steps 5000, 140.45 steps/s\n",
      "2020-10-14 09:00:51,915 - root - INFO: steps 5338, episodic_return_train 3.0\n",
      "2020-10-14 09:00:56,631 - root - INFO: steps 6000, 140.20 steps/s\n",
      "2020-10-14 09:01:03,706 - root - INFO: steps 7000, 141.37 steps/s\n",
      "2020-10-14 09:01:04,529 - root - INFO: steps 7114, episodic_return_train 2.0\n",
      "2020-10-14 09:01:10,798 - root - INFO: steps 8000, 141.08 steps/s\n",
      "2020-10-14 09:01:17,123 - root - INFO: steps 8894, episodic_return_train -6.0\n",
      "2020-10-14 09:01:17,904 - root - INFO: steps 9000, 140.76 steps/s\n",
      "2020-10-14 09:01:25,029 - root - INFO: steps 10000, 140.39 steps/s\n",
      "2020-10-14 09:01:29,843 - root - INFO: steps 10674, episodic_return_train 2.0\n",
      "2020-10-14 09:01:32,184 - root - INFO: steps 11000, 139.81 steps/s\n",
      "2020-10-14 09:01:39,313 - root - INFO: steps 12000, 140.33 steps/s\n",
      "2020-10-14 09:01:42,549 - root - INFO: steps 12451, episodic_return_train 5.0\n",
      "2020-10-14 09:01:46,488 - root - INFO: steps 13000, 139.46 steps/s\n",
      "2020-10-14 09:01:52,360 - root - INFO: steps 14000, 170.34 steps/s\n",
      "2020-10-14 09:01:53,750 - root - INFO: steps 14232, episodic_return_train -2.0\n",
      "2020-10-14 09:01:58,233 - root - INFO: steps 15000, 170.36 steps/s\n",
      "2020-10-14 09:02:04,513 - root - INFO: steps 16000, 159.27 steps/s\n",
      "2020-10-14 09:02:04,591 - root - INFO: steps 16008, episodic_return_train 8.0\n",
      "2020-10-14 09:02:10,380 - root - INFO: steps 17000, 170.53 steps/s\n",
      "2020-10-14 09:02:15,009 - root - INFO: steps 17784, episodic_return_train -4.0\n",
      "2020-10-14 09:02:16,264 - root - INFO: steps 18000, 170.00 steps/s\n",
      "2020-10-14 09:02:22,113 - root - INFO: steps 19000, 171.03 steps/s\n",
      "2020-10-14 09:02:25,423 - root - INFO: steps 19560, episodic_return_train -2.0\n",
      "2020-10-14 09:02:27,993 - root - INFO: steps 20000, 170.18 steps/s\n",
      "2020-10-14 09:02:33,863 - root - INFO: steps 21000, 170.44 steps/s\n",
      "2020-10-14 09:02:36,240 - root - INFO: steps 21341, episodic_return_train 0.0\n",
      "2020-10-14 09:02:40,937 - root - INFO: steps 22000, 141.42 steps/s\n",
      "2020-10-14 09:02:48,104 - root - INFO: steps 23000, 139.57 steps/s\n",
      "2020-10-14 09:02:48,989 - root - INFO: steps 23122, episodic_return_train 1.0\n",
      "2020-10-14 09:02:54,654 - root - INFO: steps 24000, 152.70 steps/s\n",
      "2020-10-14 09:03:00,869 - root - INFO: steps 24904, episodic_return_train 0.0\n",
      "2020-10-14 09:03:01,427 - root - INFO: steps 25000, 147.69 steps/s\n",
      "2020-10-14 09:03:07,289 - root - INFO: steps 26000, 170.67 steps/s\n",
      "2020-10-14 09:03:12,206 - root - INFO: steps 26685, episodic_return_train -5.0\n",
      "2020-10-14 09:03:14,475 - root - INFO: steps 27000, 139.23 steps/s\n",
      "2020-10-14 09:03:21,662 - root - INFO: steps 28000, 139.18 steps/s\n",
      "2020-10-14 09:03:25,033 - root - INFO: steps 28468, episodic_return_train -1.0\n",
      "2020-10-14 09:03:28,811 - root - INFO: steps 29000, 139.92 steps/s\n",
      "2020-10-14 09:03:35,941 - root - INFO: steps 30000, 140.27 steps/s\n",
      "2020-10-14 09:03:37,745 - root - INFO: steps 30251, episodic_return_train 4.0\n",
      "2020-10-14 09:03:43,094 - root - INFO: steps 31000, 139.83 steps/s\n",
      "2020-10-14 09:03:50,281 - root - INFO: steps 32000, 139.17 steps/s\n",
      "2020-10-14 09:03:50,527 - root - INFO: steps 32033, episodic_return_train -3.0\n",
      "2020-10-14 09:03:57,446 - root - INFO: steps 33000, 139.61 steps/s\n",
      "2020-10-14 09:04:03,315 - root - INFO: steps 33813, episodic_return_train 5.0\n",
      "2020-10-14 09:04:04,678 - root - INFO: steps 34000, 138.31 steps/s\n",
      "2020-10-14 09:04:11,842 - root - INFO: steps 35000, 139.64 steps/s\n",
      "2020-10-14 09:04:16,072 - root - INFO: steps 35591, episodic_return_train -2.0\n",
      "2020-10-14 09:04:19,005 - root - INFO: steps 36000, 139.65 steps/s\n",
      "2020-10-14 09:04:26,145 - root - INFO: steps 37000, 140.11 steps/s\n",
      "2020-10-14 09:04:28,819 - root - INFO: steps 37369, episodic_return_train -3.0\n",
      "2020-10-14 09:04:33,340 - root - INFO: steps 38000, 139.01 steps/s\n",
      "2020-10-14 09:04:40,488 - root - INFO: steps 39000, 139.97 steps/s\n",
      "2020-10-14 09:04:41,539 - root - INFO: steps 39147, episodic_return_train 2.0\n",
      "2020-10-14 09:04:47,630 - root - INFO: steps 40000, 140.06 steps/s\n",
      "2020-10-14 09:04:54,230 - root - INFO: steps 40928, episodic_return_train -1.0\n",
      "2020-10-14 09:04:54,653 - root - INFO: steps 41000, 142.44 steps/s\n",
      "2020-10-14 09:05:00,678 - root - INFO: steps 42000, 166.03 steps/s\n",
      "2020-10-14 09:05:05,238 - root - INFO: steps 42709, episodic_return_train 4.0\n",
      "2020-10-14 09:05:07,257 - root - INFO: steps 43000, 152.05 steps/s\n",
      "2020-10-14 09:05:14,739 - root - INFO: steps 44000, 133.69 steps/s\n",
      "2020-10-14 09:05:18,328 - root - INFO: steps 44490, episodic_return_train 0.0\n",
      "2020-10-14 09:05:21,971 - root - INFO: steps 45000, 138.32 steps/s\n",
      "2020-10-14 09:05:29,137 - root - INFO: steps 46000, 139.60 steps/s\n",
      "2020-10-14 09:05:31,055 - root - INFO: steps 46266, episodic_return_train 7.0\n",
      "2020-10-14 09:05:36,274 - root - INFO: steps 47000, 140.19 steps/s\n",
      "2020-10-14 09:05:43,415 - root - INFO: steps 48000, 140.08 steps/s\n",
      "2020-10-14 09:05:43,786 - root - INFO: steps 48049, episodic_return_train 1.0\n",
      "2020-10-14 09:05:50,594 - root - INFO: steps 49000, 139.33 steps/s\n",
      "2020-10-14 09:05:56,495 - root - INFO: steps 49826, episodic_return_train 1.0\n",
      "2020-10-14 09:05:57,741 - root - INFO: steps 50000, 139.96 steps/s\n",
      "2020-10-14 09:06:04,912 - root - INFO: steps 51000, 139.48 steps/s\n",
      "2020-10-14 09:06:09,245 - root - INFO: steps 51606, episodic_return_train -1.0\n",
      "2020-10-14 09:06:12,071 - root - INFO: steps 52000, 139.73 steps/s\n",
      "2020-10-14 09:06:19,417 - root - INFO: steps 53000, 136.15 steps/s\n",
      "2020-10-14 09:06:22,252 - root - INFO: steps 53385, episodic_return_train -2.0\n",
      "2020-10-14 09:06:26,668 - root - INFO: steps 54000, 137.95 steps/s\n",
      "2020-10-14 09:06:33,856 - root - INFO: steps 55000, 139.16 steps/s\n",
      "2020-10-14 09:06:35,045 - root - INFO: steps 55163, episodic_return_train -9.0\n",
      "2020-10-14 09:06:41,007 - root - INFO: steps 56000, 139.86 steps/s\n",
      "2020-10-14 09:06:47,735 - root - INFO: steps 56940, episodic_return_train -1.0\n",
      "2020-10-14 09:06:48,158 - root - INFO: steps 57000, 139.89 steps/s\n",
      "2020-10-14 09:06:55,270 - root - INFO: steps 58000, 140.64 steps/s\n",
      "2020-10-14 09:07:00,396 - root - INFO: steps 58716, episodic_return_train -1.0\n",
      "2020-10-14 09:07:02,410 - root - INFO: steps 59000, 140.11 steps/s\n",
      "2020-10-14 09:07:09,529 - root - INFO: steps 60000, 140.51 steps/s\n",
      "2020-10-14 09:07:13,076 - root - INFO: steps 60493, episodic_return_train 1.0\n",
      "2020-10-14 09:07:16,716 - root - INFO: steps 61000, 139.17 steps/s\n",
      "2020-10-14 09:07:23,810 - root - INFO: steps 62000, 141.01 steps/s\n",
      "2020-10-14 09:07:25,724 - root - INFO: steps 62271, episodic_return_train -17.0\n",
      "2020-10-14 09:07:30,909 - root - INFO: steps 63000, 140.91 steps/s\n",
      "2020-10-14 09:07:38,010 - root - INFO: steps 64000, 140.85 steps/s\n",
      "2020-10-14 09:07:38,399 - root - INFO: steps 64054, episodic_return_train 1.0\n",
      "2020-10-14 09:07:45,111 - root - INFO: steps 65000, 140.90 steps/s\n",
      "2020-10-14 09:07:51,044 - root - INFO: steps 65837, episodic_return_train -2.0\n",
      "2020-10-14 09:07:52,194 - root - INFO: steps 66000, 141.23 steps/s\n",
      "2020-10-14 09:07:59,270 - root - INFO: steps 67000, 141.37 steps/s\n",
      "2020-10-14 09:08:03,652 - root - INFO: steps 67615, episodic_return_train 6.0\n",
      "2020-10-14 09:08:06,406 - root - INFO: steps 68000, 140.18 steps/s\n",
      "2020-10-14 09:08:13,466 - root - INFO: steps 69000, 141.68 steps/s\n",
      "2020-10-14 09:08:16,272 - root - INFO: steps 69392, episodic_return_train 2.0\n",
      "2020-10-14 09:08:20,570 - root - INFO: steps 70000, 140.82 steps/s\n",
      "2020-10-14 09:08:27,654 - root - INFO: steps 71000, 141.21 steps/s\n",
      "2020-10-14 09:08:28,892 - root - INFO: steps 71175, episodic_return_train 0.0\n",
      "2020-10-14 09:08:34,767 - root - INFO: steps 72000, 140.62 steps/s\n",
      "2020-10-14 09:08:41,585 - root - INFO: steps 72954, episodic_return_train 1.0\n",
      "2020-10-14 09:08:41,933 - root - INFO: steps 73000, 139.60 steps/s\n",
      "2020-10-14 09:08:49,090 - root - INFO: steps 74000, 139.76 steps/s\n",
      "2020-10-14 09:08:54,359 - root - INFO: steps 74734, episodic_return_train 2.0\n",
      "2020-10-14 09:08:56,291 - root - INFO: steps 75000, 138.96 steps/s\n",
      "2020-10-14 09:09:03,443 - root - INFO: steps 76000, 139.84 steps/s\n",
      "2020-10-14 09:09:07,136 - root - INFO: steps 76516, episodic_return_train 0.0\n",
      "2020-10-14 09:09:10,090 - root - INFO: steps 77000, 150.49 steps/s\n",
      "2020-10-14 09:09:17,095 - root - INFO: steps 78000, 142.81 steps/s\n",
      "2020-10-14 09:09:19,195 - root - INFO: steps 78294, episodic_return_train 7.0\n",
      "2020-10-14 09:09:24,269 - root - INFO: steps 79000, 139.43 steps/s\n",
      "2020-10-14 09:09:31,398 - root - INFO: steps 80000, 140.33 steps/s\n",
      "2020-10-14 09:09:31,968 - root - INFO: steps 80076, episodic_return_train 5.0\n",
      "2020-10-14 09:09:38,555 - root - INFO: steps 81000, 139.76 steps/s\n",
      "2020-10-14 09:09:44,659 - root - INFO: steps 81857, episodic_return_train 1.0\n",
      "2020-10-14 09:09:45,680 - root - INFO: steps 82000, 140.39 steps/s\n",
      "2020-10-14 09:09:52,848 - root - INFO: steps 83000, 139.55 steps/s\n",
      "2020-10-14 09:09:57,443 - root - INFO: steps 83640, episodic_return_train 5.0\n",
      "2020-10-14 09:10:00,026 - root - INFO: steps 84000, 139.37 steps/s\n",
      "2020-10-14 09:10:07,163 - root - INFO: steps 85000, 140.15 steps/s\n",
      "2020-10-14 09:10:10,144 - root - INFO: steps 85418, episodic_return_train 9.0\n",
      "2020-10-14 09:10:14,304 - root - INFO: steps 86000, 140.11 steps/s\n",
      "2020-10-14 09:10:21,411 - root - INFO: steps 87000, 140.75 steps/s\n",
      "2020-10-14 09:10:22,861 - root - INFO: steps 87201, episodic_return_train 2.0\n",
      "2020-10-14 09:10:28,560 - root - INFO: steps 88000, 139.91 steps/s\n",
      "2020-10-14 09:10:35,585 - root - INFO: steps 88982, episodic_return_train 1.0\n",
      "2020-10-14 09:10:35,712 - root - INFO: steps 89000, 139.88 steps/s\n",
      "2020-10-14 09:10:41,959 - root - INFO: steps 90000, 160.14 steps/s\n",
      "2020-10-14 09:10:46,497 - root - INFO: steps 90760, episodic_return_train 1.0\n",
      "2020-10-14 09:10:47,898 - root - INFO: steps 91000, 168.43 steps/s\n",
      "2020-10-14 09:10:53,805 - root - INFO: steps 92000, 169.36 steps/s\n",
      "2020-10-14 09:10:57,293 - root - INFO: steps 92543, episodic_return_train 6.0\n",
      "2020-10-14 09:11:00,607 - root - INFO: steps 93000, 147.05 steps/s\n",
      "2020-10-14 09:11:07,836 - root - INFO: steps 94000, 138.37 steps/s\n",
      "2020-10-14 09:11:10,169 - root - INFO: steps 94320, episodic_return_train -1.0\n",
      "2020-10-14 09:11:15,037 - root - INFO: steps 95000, 138.91 steps/s\n",
      "2020-10-14 09:11:22,215 - root - INFO: steps 96000, 139.37 steps/s\n",
      "2020-10-14 09:11:22,928 - root - INFO: steps 96097, episodic_return_train -1.0\n",
      "2020-10-14 09:11:29,502 - root - INFO: steps 97000, 137.29 steps/s\n",
      "2020-10-14 09:11:35,833 - root - INFO: steps 97876, episodic_return_train 6.0\n",
      "2020-10-14 09:11:36,730 - root - INFO: steps 98000, 138.39 steps/s\n",
      "2020-10-14 09:11:43,914 - root - INFO: steps 99000, 139.25 steps/s\n",
      "2020-10-14 09:11:48,596 - root - INFO: steps 99655, episodic_return_train 11.0\n",
      "2020-10-14 09:11:51,095 - root - INFO: steps 100000, 139.28 steps/s\n"
     ]
    },
    {
     "name": "stdout",
     "output_type": "stream",
     "text": [
      "WARNING: Failure to close ReplayWrapper.\n"
     ]
    }
   ],
   "source": [
    "game='BoxingNoFrameskip-v0'\n",
    "avdsr = dsr_unsup_pixel(game=game)"
   ]
  },
  {
   "cell_type": "code",
   "execution_count": 5,
   "metadata": {},
   "outputs": [],
   "source": [
    "def convolve(points, kernelSize=5):\n",
    "    array = np.convolve(points, np.ones(kernelSize)/kernelSize, 'valid')\n",
    "    return array"
   ]
  },
  {
   "cell_type": "code",
   "execution_count": 13,
   "metadata": {},
   "outputs": [
    {
     "data": {
      "image/png": "[encoded data removed]",
      "text/plain": [
       "<Figure size 432x288 with 2 Axes>"
      ]
     },
     "metadata": {
      "needs_background": "light"
     },
     "output_type": "display_data"
    }
   ],
   "source": [
    "plt.subplot(311), plt.plot(convolve(avdsr.loss_rec_vec,10)[100:]), plt.title('loss_reconstruction')\n",
    "plt.subplot(312), plt.plot(convolve(avdsr.loss_psi_vec,10)[100:]), plt.title('loss_psi')\n",
    "plt.show()"
   ]
  },
  {
   "cell_type": "code",
   "execution_count": 7,
   "metadata": {},
   "outputs": [],
   "source": [
    "import gym\n",
    "from gym.spaces.box import Box\n",
    "from gym.spaces.discrete import Discrete\n",
    "from baselines.common.atari_wrappers import make_atari, wrap_deepmind\n",
    "from baselines.common.atari_wrappers import FrameStack as FrameStack_\n",
    "from baselines.common.vec_env.subproc_vec_env import SubprocVecEnv, VecEnv\n",
    "class TransposeImage(gym.ObservationWrapper):\n",
    "    def __init__(self, env=None):\n",
    "        super(TransposeImage, self).__init__(env)\n",
    "        obs_shape = self.observation_space.shape\n",
    "        self.observation_space = Box(\n",
    "            self.observation_space.low[0, 0, 0],\n",
    "            self.observation_space.high[0, 0, 0],\n",
    "            [obs_shape[2], obs_shape[1], obs_shape[0]],\n",
    "            dtype=self.observation_space.dtype)\n",
    "\n",
    "    def observation(self, observation):\n",
    "        return observation.transpose(2, 0, 1)\n",
    "    \n",
    "class FrameStack(FrameStack_):\n",
    "    def __init__(self, env, k):\n",
    "        FrameStack_.__init__(self, env, k)\n",
    "\n",
    "    def _get_ob(self):\n",
    "        assert len(self.frames) == self.k\n",
    "        return LazyFrames(list(self.frames))\n",
    "    \n",
    "class LazyFrames(object):\n",
    "    def __init__(self, frames):\n",
    "        \"\"\"This object ensures that common frames between the observations are only stored once.\n",
    "        It exists purely to optimize memory usage which can be huge for DQN's 1M frames replay\n",
    "        buffers.\n",
    "\n",
    "        This object should only be converted to numpy array before being passed to the model.\n",
    "\n",
    "        You'd not believe how complex the previous solution was.\"\"\"\n",
    "        self._frames = frames\n",
    "\n",
    "    def __array__(self, dtype=None):\n",
    "        out = np.concatenate(self._frames, axis=0)\n",
    "        if dtype is not None:\n",
    "            out = out.astype(dtype)\n",
    "        return out\n",
    "\n",
    "    def __len__(self):\n",
    "        return len(self.__array__())\n",
    "\n",
    "    def __getitem__(self, i):\n",
    "        return self.__array__()[i]"
   ]
  },
  {
   "cell_type": "code",
   "execution_count": 8,
   "metadata": {},
   "outputs": [
    {
     "name": "stderr",
     "output_type": "stream",
     "text": [
      "/home/mila/p/penmetss/.conda/envs/conda_env/lib/python3.6/site-packages/gym/envs/registration.py:14: PkgResourcesDeprecationWarning: Parameters to load are deprecated.  Call .resolve and .require separately.\n",
      "  result = entry_point.load(False)\n"
     ]
    }
   ],
   "source": [
    "env_id='BoxingNoFrameskip-v0'\n",
    "env = make_atari(env_id)\n",
    "env = wrap_deepmind(env, episode_life=True, clip_rewards=False, frame_stack=False, scale=False)\n",
    "obs_shape = env.observation_space.shape\n",
    "if len(obs_shape) == 3:\n",
    "    env = TransposeImage(env)\n",
    "env = FrameStack(env, 4)\n",
    "obs = env.reset()"
   ]
  },
  {
   "cell_type": "code",
   "execution_count": 266,
   "metadata": {},
   "outputs": [],
   "source": [
    "obs,_,_,_ = env.step(env.action_space.sample())"
   ]
  },
  {
   "cell_type": "code",
   "execution_count": 267,
   "metadata": {},
   "outputs": [
    {
     "data": {
      "text/plain": [
       "<matplotlib.image.AxesImage at 0x7f431bbed4e0>"
      ]
     },
     "execution_count": 267,
     "metadata": {},
     "output_type": "execute_result"
    },
    {
     "data": {
      "image/png": "[encoded data removed]",
      "text/plain": [
       "<Figure size 432x288 with 1 Axes>"
      ]
     },
     "metadata": {
      "needs_background": "light"
     },
     "output_type": "display_data"
    }
   ],
   "source": [
    "plt.imshow(obs[1,:,:])"
   ]
  },
  {
   "cell_type": "code",
   "execution_count": 296,
   "metadata": {},
   "outputs": [
    {
     "data": {
      "image/png": "[encoded data removed]",
      "text/plain": [
       "<Figure size 432x288 with 2 Axes>"
      ]
     },
     "metadata": {
      "needs_background": "light"
     },
     "output_type": "display_data"
    }
   ],
   "source": [
    "obs2 = tensor(obs)/255\n",
    "out = avdsr.network(obs2.unsqueeze(0))\n",
    "re_np = out['state_rec'].squeeze(0).detach().cpu().numpy()\n",
    "imgIn = tensor(obs).cpu().numpy()[0,:,:]\n",
    "imgRe = re_np[0,:,:]\n",
    "\n",
    "plt.subplot(121), plt.imshow(imgIn)\n",
    "plt.subplot(122), plt.imshow(imgRe); plt.show()"
   ]
  },
  {
   "cell_type": "code",
   "execution_count": 21,
   "metadata": {},
   "outputs": [
    {
     "data": {
      "text/plain": [
       "tensor([[[[0.2641, 0.2684, 0.2667,  ..., 0.2691, 0.2670, 0.2609],\n",
       "          [0.2630, 0.2653, 0.2632,  ..., 0.2671, 0.2664, 0.2623],\n",
       "          [0.2640, 0.2658, 0.2642,  ..., 0.2642, 0.2650, 0.2637],\n",
       "          ...,\n",
       "          [0.2632, 0.2677, 0.2672,  ..., 0.2620, 0.2643, 0.2643],\n",
       "          [0.2653, 0.2615, 0.2659,  ..., 0.2662, 0.2648, 0.2653],\n",
       "          [0.2614, 0.2693, 0.2629,  ..., 0.2641, 0.2652, 0.2638]],\n",
       "\n",
       "         [[0.2656, 0.2634, 0.2638,  ..., 0.2613, 0.2664, 0.2654],\n",
       "          [0.2618, 0.2662, 0.2626,  ..., 0.2631, 0.2644, 0.2682],\n",
       "          [0.2652, 0.2678, 0.2643,  ..., 0.2684, 0.2661, 0.2713],\n",
       "          ...,\n",
       "          [0.2658, 0.2648, 0.2624,  ..., 0.2674, 0.2625, 0.2684],\n",
       "          [0.2608, 0.2655, 0.2683,  ..., 0.2682, 0.2594, 0.2683],\n",
       "          [0.2650, 0.2682, 0.2676,  ..., 0.2642, 0.2713, 0.2702]],\n",
       "\n",
       "         [[0.2707, 0.2694, 0.2644,  ..., 0.2679, 0.2614, 0.2662],\n",
       "          [0.2649, 0.2639, 0.2702,  ..., 0.2643, 0.2657, 0.2613],\n",
       "          [0.2699, 0.2612, 0.2655,  ..., 0.2632, 0.2617, 0.2698],\n",
       "          ...,\n",
       "          [0.2644, 0.2608, 0.2653,  ..., 0.2609, 0.2626, 0.2626],\n",
       "          [0.2663, 0.2623, 0.2661,  ..., 0.2589, 0.2673, 0.2610],\n",
       "          [0.2653, 0.2652, 0.2728,  ..., 0.2641, 0.2650, 0.2608]],\n",
       "\n",
       "         [[0.2619, 0.2679, 0.2679,  ..., 0.2681, 0.2632, 0.2671],\n",
       "          [0.2662, 0.2666, 0.2623,  ..., 0.2679, 0.2703, 0.2699],\n",
       "          [0.2670, 0.2685, 0.2637,  ..., 0.2643, 0.2647, 0.2677],\n",
       "          ...,\n",
       "          [0.2619, 0.2671, 0.2665,  ..., 0.2691, 0.2643, 0.2660],\n",
       "          [0.2660, 0.2632, 0.2665,  ..., 0.2658, 0.2636, 0.2658],\n",
       "          [0.2667, 0.2640, 0.2593,  ..., 0.2671, 0.2690, 0.2617]]]],\n",
       "       device='cuda:0', grad_fn=<TanhBackward>)"
      ]
     },
     "execution_count": 21,
     "metadata": {},
     "output_type": "execute_result"
    }
   ],
   "source": [
    "out['state_rec']"
   ]
  },
  {
   "cell_type": "code",
   "execution_count": 22,
   "metadata": {},
   "outputs": [],
   "source": [
    "transitions = avdsr.replay.sample()\n",
    "states = avdsr.config.state_normalizer(transitions.state)\n",
    "out = avdsr.network(states)\n",
    "phi, psi, state_rec = out['phi'], out['psi'], out['state_rec']\n",
    "loss_rec = (state_rec - tensor(states)).pow(2).mul(0.5).mean()"
   ]
  },
  {
   "cell_type": "code",
   "execution_count": 23,
   "metadata": {},
   "outputs": [
    {
     "data": {
      "text/plain": [
       "tensor(0.0342, device='cuda:0', grad_fn=<MeanBackward0>)"
      ]
     },
     "execution_count": 23,
     "metadata": {},
     "output_type": "execute_result"
    }
   ],
   "source": [
    "loss_rec"
   ]
  },
  {
   "cell_type": "code",
   "execution_count": 295,
   "metadata": {},
   "outputs": [],
   "source": [
    "# torch.save(avdsr.network.state_dict(), '../storage/41-avdsr-trained-boxing-5e-4-1e5.weights')\n",
    "# torch.save(avdsr.network.state_dict(), '../storage/41-avdsr-trained-boxing-5e-4-1e5-shuffle.weights')"
   ]
  },
  {
   "cell_type": "code",
   "execution_count": 292,
   "metadata": {},
   "outputs": [],
   "source": [
    "weights = avdsr.network.state_dict()"
   ]
  },
  {
   "cell_type": "code",
   "execution_count": 293,
   "metadata": {},
   "outputs": [],
   "source": [
    "for k in weights.keys():\n",
    "    l_shape = weights[k].shape\n",
    "    weights2 = weights[k].view(-1)\n",
    "    r = torch.randperm(weights2.shape[0])\n",
    "    weights2 = weights2[r]\n",
    "    weights[k] = weights2.view(l_shape)"
   ]
  },
  {
   "cell_type": "code",
   "execution_count": 299,
   "metadata": {},
   "outputs": [
    {
     "data": {
      "text/plain": [
       "odict_keys(['encoder.0.weight', 'encoder.0.bias', 'encoder.2.weight', 'encoder.2.bias', 'encoder.4.weight', 'encoder.4.bias', 'encoder.7.weight', 'encoder.7.bias', 'decoder.0.weight', 'decoder.0.bias', 'decoder.2.weight', 'decoder.2.bias', 'decoder.4.weight', 'decoder.4.bias', 'decoder.6.weight', 'decoder.6.bias', 'layers_sr.0.weight', 'layers_sr.0.bias', 'layers_sr.1.weight', 'layers_sr.1.bias'])"
      ]
     },
     "execution_count": 299,
     "metadata": {},
     "output_type": "execute_result"
    }
   ],
   "source": [
    "avdsr.network.state_dict().keys()"
   ]
  },
  {
   "cell_type": "code",
   "execution_count": 294,
   "metadata": {},
   "outputs": [
    {
     "data": {
      "text/plain": [
       "IncompatibleKeys(missing_keys=[], unexpected_keys=[])"
      ]
     },
     "execution_count": 294,
     "metadata": {},
     "output_type": "execute_result"
    }
   ],
   "source": [
    "avdsr.network.load_state_dict(weights)"
   ]
  },
  {
   "cell_type": "code",
   "execution_count": 290,
   "metadata": {},
   "outputs": [
    {
     "data": {
      "text/plain": [
       "IncompatibleKeys(missing_keys=[], unexpected_keys=[])"
      ]
     },
     "execution_count": 290,
     "metadata": {},
     "output_type": "execute_result"
    }
   ],
   "source": [
    "avdsr.network.load_state_dict(torch.load('../storage/41-avdsr-trained-boxing-5e-4-1e5.weights'))"
   ]
  }
 ],
 "metadata": {
  "kernelspec": {
   "display_name": "Python 3 (conda_env)",
   "language": "python",
   "name": "conda_env"
  },
  "language_info": {
   "codemirror_mode": {
    "name": "ipython",
    "version": 3
   },
   "file_extension": ".py",
   "mimetype": "text/x-python",
   "name": "python",
   "nbconvert_exporter": "python",
   "pygments_lexer": "ipython3",
   "version": "3.6.10"
  }
 },
 "nbformat": 4,
 "nbformat_minor": 4
}
